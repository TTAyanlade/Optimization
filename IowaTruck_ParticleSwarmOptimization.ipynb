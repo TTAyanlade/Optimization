{
  "nbformat": 4,
  "nbformat_minor": 0,
  "metadata": {
    "colab": {
      "provenance": []
    },
    "kernelspec": {
      "name": "python3",
      "display_name": "Python 3"
    },
    "language_info": {
      "name": "python"
    }
  },
  "cells": [
    {
      "cell_type": "code",
      "execution_count": null,
      "metadata": {
        "id": "YPIOVtjHzo10"
      },
      "outputs": [],
      "source": []
    },
    {
      "cell_type": "code",
      "source": [
        "!pip install pyswarms"
      ],
      "metadata": {
        "colab": {
          "base_uri": "https://localhost:8080/"
        },
        "id": "e9uNARPizrox",
        "outputId": "909a8fd3-a698-47dd-b8cb-bb299e889933"
      },
      "execution_count": null,
      "outputs": [
        {
          "output_type": "stream",
          "name": "stdout",
          "text": [
            "Looking in indexes: https://pypi.org/simple, https://us-python.pkg.dev/colab-wheels/public/simple/\n",
            "Collecting pyswarms\n",
            "  Downloading pyswarms-1.3.0-py2.py3-none-any.whl (104 kB)\n",
            "\u001b[2K     \u001b[90m━━━━━━━━━━━━━━━━━━━━━━━━━━━━━━━━━━━━━━━\u001b[0m \u001b[32m104.1/104.1 kB\u001b[0m \u001b[31m3.7 MB/s\u001b[0m eta \u001b[36m0:00:00\u001b[0m\n",
            "\u001b[?25hRequirement already satisfied: numpy in /usr/local/lib/python3.10/dist-packages (from pyswarms) (1.22.4)\n",
            "Requirement already satisfied: scipy in /usr/local/lib/python3.10/dist-packages (from pyswarms) (1.10.1)\n",
            "Requirement already satisfied: future in /usr/local/lib/python3.10/dist-packages (from pyswarms) (0.18.3)\n",
            "Requirement already satisfied: matplotlib>=1.3.1 in /usr/local/lib/python3.10/dist-packages (from pyswarms) (3.7.1)\n",
            "Requirement already satisfied: tqdm in /usr/local/lib/python3.10/dist-packages (from pyswarms) (4.65.0)\n",
            "Requirement already satisfied: attrs in /usr/local/lib/python3.10/dist-packages (from pyswarms) (23.1.0)\n",
            "Requirement already satisfied: pyyaml in /usr/local/lib/python3.10/dist-packages (from pyswarms) (6.0)\n",
            "Requirement already satisfied: fonttools>=4.22.0 in /usr/local/lib/python3.10/dist-packages (from matplotlib>=1.3.1->pyswarms) (4.39.3)\n",
            "Requirement already satisfied: pyparsing>=2.3.1 in /usr/local/lib/python3.10/dist-packages (from matplotlib>=1.3.1->pyswarms) (3.0.9)\n",
            "Requirement already satisfied: cycler>=0.10 in /usr/local/lib/python3.10/dist-packages (from matplotlib>=1.3.1->pyswarms) (0.11.0)\n",
            "Requirement already satisfied: pillow>=6.2.0 in /usr/local/lib/python3.10/dist-packages (from matplotlib>=1.3.1->pyswarms) (8.4.0)\n",
            "Requirement already satisfied: contourpy>=1.0.1 in /usr/local/lib/python3.10/dist-packages (from matplotlib>=1.3.1->pyswarms) (1.0.7)\n",
            "Requirement already satisfied: python-dateutil>=2.7 in /usr/local/lib/python3.10/dist-packages (from matplotlib>=1.3.1->pyswarms) (2.8.2)\n",
            "Requirement already satisfied: packaging>=20.0 in /usr/local/lib/python3.10/dist-packages (from matplotlib>=1.3.1->pyswarms) (23.1)\n",
            "Requirement already satisfied: kiwisolver>=1.0.1 in /usr/local/lib/python3.10/dist-packages (from matplotlib>=1.3.1->pyswarms) (1.4.4)\n",
            "Requirement already satisfied: six>=1.5 in /usr/local/lib/python3.10/dist-packages (from python-dateutil>=2.7->matplotlib>=1.3.1->pyswarms) (1.16.0)\n",
            "Installing collected packages: pyswarms\n",
            "Successfully installed pyswarms-1.3.0\n"
          ]
        }
      ]
    },
    {
      "cell_type": "code",
      "source": [],
      "metadata": {
        "id": "HNrUDVh9CWV9"
      },
      "execution_count": null,
      "outputs": []
    },
    {
      "cell_type": "code",
      "source": [
        "# import numpy as np\n",
        "# import pyswarms as ps\n",
        "\n",
        "# # Define your objective function\n",
        "# def objective_function(x):\n",
        "#     return np.sum(x**2, axis=1)\n",
        "\n",
        "# # Define your constraints\n",
        "# def constraint1(x):\n",
        "#     return 2 - np.sum(x, axis=1)\n",
        "\n",
        "# def constraint2(x):\n",
        "#     return np.diff(x, axis=1).flatten() - 1\n",
        "\n",
        "# # Define the penalty function\n",
        "# def penalty_function(x, r=1e4):\n",
        "#     penalties = np.maximum(0, constraint1(x)) + np.maximum(0, constraint2(x))\n",
        "#     return r * np.sum(penalties)\n",
        "\n",
        "# # Define the penalized objective function\n",
        "# def penalized_objective_function(x):\n",
        "#     return objective_function(x) + penalty_function(x)\n",
        "\n",
        "# # Set the bounds of the search space\n",
        "# bounds = (np.array([-5, -5]), np.array([5, 5]))\n",
        "\n",
        "# # Initialize the PSO optimizer\n",
        "# options = {'c1': 0.5, 'c2': 0.3, 'w': 0.9}\n",
        "# optimizer = ps.single.GlobalBestPSO(n_particles=50, dimensions=2, options=options, bounds=bounds)\n",
        "\n",
        "# # Optimize the penalized objective function\n",
        "# cost, pos = optimizer.optimize(penalized_objective_function, iters=1000)\n",
        "\n",
        "# print(\"Optimal solution found at position:\", pos, \"with cost:\", cost)"
      ],
      "metadata": {
        "colab": {
          "base_uri": "https://localhost:8080/"
        },
        "id": "cO24XdPlCWYN",
        "outputId": "e284e4df-b53d-4243-da18-cc595387d148"
      },
      "execution_count": null,
      "outputs": [
        {
          "output_type": "stream",
          "name": "stderr",
          "text": [
            "2023-05-03 19:14:20,992 - pyswarms.single.global_best - INFO - Optimize for 1000 iters with {'c1': 0.5, 'c2': 0.3, 'w': 0.9}\n",
            "pyswarms.single.global_best: 100%|██████████|1000/1000, best_cost=6.01e+5\n",
            "2023-05-03 19:14:25,670 - pyswarms.single.global_best - INFO - Optimization finished | best cost: 601005.7733212649, best pos: [0.00638842 0.02923788]\n"
          ]
        },
        {
          "output_type": "stream",
          "name": "stdout",
          "text": [
            "Optimal solution found at position: [0.00638842 0.02923788] with cost: 601005.7733212649\n"
          ]
        }
      ]
    },
    {
      "cell_type": "code",
      "source": [
        "import numpy as np\n",
        "import matplotlib.pyplot as plt\n",
        "from mpl_toolkits.mplot3d import Axes3D\n",
        "\n",
        "# Define the objective function\n",
        "def objective_function(x):\n",
        "    return np.sum(x**2, axis=1)\n",
        "\n",
        "# Create a meshgrid for the input values within the bounds of -5 to 5\n",
        "x1 = np.linspace(-5, 5, 100)\n",
        "x2 = np.linspace(-5, 5, 100)\n",
        "X1, X2 = np.meshgrid(x1, x2)\n",
        "\n",
        "# Combine the meshgrid values into a 2D array\n",
        "X = np.column_stack((X1.ravel(), X2.ravel()))\n",
        "\n",
        "# Evaluate the objective function for the input values\n",
        "Y = objective_function(X)\n",
        "\n",
        "# Reshape the output to match the shape of the meshgrid\n",
        "Y = Y.reshape(X1.shape)\n",
        "\n",
        "# Create a 3D plot\n",
        "fig = plt.figure()\n",
        "ax = fig.add_subplot(111, projection='3d')\n",
        "\n",
        "# Plot the surface\n",
        "ax.plot_surface(X1, X2, Y, cmap='viridis')\n",
        "\n",
        "# Set axis labels\n",
        "ax.set_xlabel('X1')\n",
        "ax.set_ylabel('X2')\n",
        "ax.set_zlabel('Y')\n",
        "\n",
        "# Set axis limits\n",
        "ax.set_xlim(-5, 5)\n",
        "ax.set_ylim(-5, 5)\n",
        "\n",
        "# Show the plot\n",
        "plt.show()\n"
      ],
      "metadata": {
        "colab": {
          "base_uri": "https://localhost:8080/",
          "height": 412
        },
        "id": "UfhCOSKfDxK1",
        "outputId": "721b4941-f2b6-415e-cac7-b80631dcfa23"
      },
      "execution_count": null,
      "outputs": [
        {
          "output_type": "display_data",
          "data": {
            "text/plain": [
              "<Figure size 640x480 with 1 Axes>"
            ],
            "image/png": "[encoded data removed]"
          },
          "metadata": {}
        }
      ]
    },
    {
      "cell_type": "code",
      "source": [
        "import numpy as np\n",
        "\n",
        "# Define the objective function\n",
        "def objective_function(x):\n",
        "    return np.sum(x**2, axis=1)\n",
        "\n",
        "# Define the input variables that minimize the objective function\n",
        "min_variables = np.array([0, 0])\n",
        "\n",
        "# Evaluate the objective function at the minimum variables\n",
        "min_value = objective_function(min_variables.reshape(1, -1))[0]\n",
        "\n",
        "# Print the results\n",
        "print(\"Minimum variables:\", min_variables)\n",
        "print(\"Minimum value of the objective function:\", min_value)\n"
      ],
      "metadata": {
        "colab": {
          "base_uri": "https://localhost:8080/"
        },
        "id": "UHm7fFnfDx7S",
        "outputId": "00b503e3-e835-49f8-d1d6-731ab018fc07"
      },
      "execution_count": null,
      "outputs": [
        {
          "output_type": "stream",
          "name": "stdout",
          "text": [
            "Minimum variables: [0 0]\n",
            "Minimum value of the objective function: 0\n"
          ]
        }
      ]
    },
    {
      "cell_type": "code",
      "source": [
        "import numpy as np\n",
        "import pyswarms as ps\n",
        "\n",
        "# Define your objective function\n",
        "def objective_function(x):\n",
        "    # return -((((150 * x[:, 0] * ( (x[:, 1] / 86100)))**10 - ((90 * x[:, 1] + 18 * (x[:, 2] * x[:, 1]) + 8 * (x[:, 1] * (x[:, 3]/x[:, 1] - 24) + 3 * x[:, 4])) * (1- (x[:, 5] / 30000) ** 0.75)))))**0.01\n",
        "    return -((x[:, 0]*3)  -  (x[:, 1]))\n",
        "\n",
        "# Define your constraints\n",
        "\n",
        "def constraint0(x):\n",
        "    return  -x[:, 0] + 10\n",
        "\n",
        "\n",
        "def constraint1(x):\n",
        "    return  (x[:, 2] * x[:, 1]) - 10* x[:, 0]\n",
        "\n",
        "def constraint2(x):\n",
        "    return x[:, 3]/x[:, 1] - 128\n",
        "\n",
        "# def constraint3(x):\n",
        "#     return 24 - x[:, 3]/x[:, 1]\n",
        "\n",
        "def constraint4(x):\n",
        "    return x[:, 2] * x[:, 1] - 3 * x[:, 1]\n",
        "\n",
        "def constraint5(x):\n",
        "    return x[:, 5]* x[:, 2] -90\n",
        "\n",
        "def constraint6(x):\n",
        "    return x[:, 1] - 4 * x[:, 4]\n",
        "\n",
        "def constraint7(x):\n",
        "    return x[:, 1] - x[:, 0]\n",
        "\n",
        "# Define the penalty function\n",
        "def penalty_function(x, r=1e12):\n",
        "    penalties =  np.maximum(0, constraint1(x)) + np.maximum(0, constraint2(x)) + np.maximum(0, constraint4(x)) + np.maximum(0, constraint5(x)) + np.maximum(0, constraint6(x)) + np.maximum(0, constraint7(x))\n",
        "    # penalties =  np.maximum(0, constraint0(x))\n",
        "    return r * np.sum(penalties)\n",
        "\n",
        "# Define the penalized objective function\n",
        "def penalized_objective_function(x):\n",
        "    return objective_function(x) + penalty_function(x)\n",
        "\n",
        "# Set the bounds of the search space\n",
        "lower_bounds = np.array([1, 1, 1, 1, 1, 1])\n",
        "upper_bounds = np.array([120, 861, 3, 128* 86,86, 30])\n",
        "\n",
        "bounds = (lower_bounds, upper_bounds)\n",
        "\n",
        "# Initialize the PSO optimizer\n",
        "options = {'c1': 2, 'c2': 2, 'w': 0.9, 'k':4, 'p':1}\n",
        "optimizer = ps.discrete.binary.BinaryPSO(n_particles=500, dimensions=6, options=options)\n",
        "\n",
        "# Optimize the penalized objective function\n",
        "cost, pos = optimizer.optimize(penalized_objective_function, iters=500)\n",
        "\n",
        "print(\"Optimal solution found at position:\", pos, \"with cost:\", cost)"
      ],
      "metadata": {
        "colab": {
          "base_uri": "https://localhost:8080/"
        },
        "id": "QHfdPmbsEZEc",
        "outputId": "a76f3d95-8573-44b4-ea7f-25335404e58d"
      },
      "execution_count": null,
      "outputs": [
        {
          "output_type": "stream",
          "name": "stderr",
          "text": [
            "2023-05-04 18:19:02,661 - pyswarms.discrete.binary - INFO - Optimize for 500 iters with {'c1': 2, 'c2': 2, 'w': 0.9, 'k': 4, 'p': 1}\n",
            "pyswarms.discrete.binary:   0%|          |0/500<ipython-input-72-c9fba9920e5b>:19: RuntimeWarning: divide by zero encountered in true_divide\n",
            "  return x[:, 3]/x[:, 1] - 128\n",
            "<ipython-input-72-c9fba9920e5b>:19: RuntimeWarning: invalid value encountered in true_divide\n",
            "  return x[:, 3]/x[:, 1] - 128\n",
            "pyswarms.discrete.binary: 100%|██████████|500/500, best_cost=-2\n",
            "2023-05-04 18:19:05,963 - pyswarms.discrete.binary - INFO - Optimization finished | best cost: -2.0, best pos: [1 1 1 1 1 0]\n"
          ]
        },
        {
          "output_type": "stream",
          "name": "stdout",
          "text": [
            "Optimal solution found at position: [1 1 1 1 1 0] with cost: -2.0\n"
          ]
        }
      ]
    },
    {
      "cell_type": "code",
      "source": [
        "!pip install pyswarms\n",
        "import pyswarms as ps\n",
        "\n",
        "# Set the bounds of the search space\n",
        "lower_bounds = np.array([0, 0, 0, 0, 0, 0])\n",
        "upper_bounds = np.array([2400, 2400, 2400, 2000,2000, 2000])\n",
        "\n",
        "bounds = (lower_bounds, upper_bounds)\n",
        "\n",
        "# Initialize the PSO optimizer\n",
        "options = {'c1': 2, 'c2': 2, 'w': 0.9,}\n",
        "optimizer = ps.single.GlobalBestPSO(n_particles=500, dimensions=6, options=options)\n",
        "\n",
        "# Optimize the penalized objective function\n",
        "cost, pos = optimizer.optimize(penalized_objective_function, iters=500)\n",
        "\n",
        "print(\"Optimal solution found at position:\", pos, \"with cost:\", cost)"
      ],
      "metadata": {
        "id": "fL-OFHJ7Xh3O"
      },
      "execution_count": null,
      "outputs": []
    },
    {
      "cell_type": "code",
      "source": [
        "print(constraint0(np.array([pos])))\n",
        "\n",
        "\n",
        "print(constraint1(np.array([pos])))\n",
        "print(constraint2(np.array([pos])))\n",
        "print(constraint3(np.array([pos])))\n",
        "print(constraint4(np.array([pos])))\n",
        "print(constraint5(np.array([pos])))\n",
        "print(constraint6(np.array([pos])))\n",
        "print(constraint7(np.array([pos])))"
      ],
      "metadata": {
        "colab": {
          "base_uri": "https://localhost:8080/"
        },
        "id": "Ovyw8dzAHgaF",
        "outputId": "588cfc47-3ce8-4b1b-f9ad-b1b9f3bbf6df"
      },
      "execution_count": null,
      "outputs": [
        {
          "output_type": "stream",
          "name": "stdout",
          "text": [
            "[-1.19983555]\n",
            "[615.89030603]\n",
            "[-99.67605047]\n",
            "[-4.32394953]\n",
            "[-217.34464787]\n",
            "[-45.14835515]\n",
            "[96.07458039]\n",
            "[303.87793426]\n"
          ]
        }
      ]
    },
    {
      "cell_type": "code",
      "source": [
        "1"
      ],
      "metadata": {
        "colab": {
          "base_uri": "https://localhost:8080/"
        },
        "id": "i2lyggjzFuTv",
        "outputId": "4b23f289-bcad-441d-ed9e-675a68278fbd"
      },
      "execution_count": null,
      "outputs": [
        {
          "output_type": "execute_result",
          "data": {
            "text/plain": [
              "1"
            ]
          },
          "metadata": {},
          "execution_count": 236
        }
      ]
    },
    {
      "cell_type": "code",
      "source": [
        "import numpy as np\n",
        "from scipy.optimize import minimize\n",
        "\n",
        "def objective_function(x):\n",
        "    t, p, h = x\n",
        "    revenue = 150 * p\n",
        "    costs = (100 * t + 10 * h)\n",
        "    profit = revenue - costs\n",
        "    return -profit  # Negate the profit function\n",
        "\n",
        "# Define the constraints\n",
        "def constraint1(x):\n",
        "    return 120 - x[1]\n",
        "\n",
        "def constraint2(x):\n",
        "    return 36 * x[0] - x[2]\n",
        "\n",
        "def constraint3(x):\n",
        "    return x[2] - 24 * x[0]\n",
        "\n",
        "def constraint4(x):\n",
        "    return 861 - x[0]\n",
        "\n",
        "# Define the initial guess\n",
        "initial_guess = np.array([1000, 1, 1])\n",
        "\n",
        "# Define the bounds for each variable (optional)\n",
        "bounds = [(0, None), (0, None), (0, None)]\n",
        "\n",
        "# Define the constraints in the form required by scipy.optimize\n",
        "constraints = [\n",
        "    {'type': 'ineq', 'fun': constraint1},\n",
        "    {'type': 'ineq', 'fun': constraint2},\n",
        "    {'type': 'ineq', 'fun': constraint3},\n",
        "    {'type': 'ineq', 'fun': constraint4},\n",
        "]\n",
        "\n",
        "# Call the minimize function with the SLSQP method\n",
        "result = minimize(\n",
        "    objective_function, initial_guess, method='SLSQP', bounds=bounds, constraints=constraints\n",
        ")\n",
        "\n",
        "# Print the results\n",
        "if result.success:\n",
        "    print(\"Optimal solution:\", result.x)\n",
        "    print(\"Objective function value at the optimal solution:\", result.fun)\n",
        "else:\n",
        "    print(\"Optimization did not converge.\")\n",
        "    print(\"Reason:\", result.message)\n"
      ],
      "metadata": {
        "id": "VAVGNUvPQWqT",
        "colab": {
          "base_uri": "https://localhost:8080/"
        },
        "outputId": "a55ff4a6-d535-4398-d24f-2c32ede42793"
      },
      "execution_count": null,
      "outputs": [
        {
          "output_type": "stream",
          "name": "stdout",
          "text": [
            "Optimal solution: [  0. 120.   0.]\n",
            "Objective function value at the optimal solution: -18000.000000629236\n"
          ]
        }
      ]
    },
    {
      "cell_type": "code",
      "source": [
        "print(constraint1(result.x))\n",
        "print(constraint2(result.x))\n",
        "print(constraint3(result.x))\n",
        "print(constraint4(result.x))\n"
      ],
      "metadata": {
        "colab": {
          "base_uri": "https://localhost:8080/"
        },
        "id": "vA2fKX0ieMnK",
        "outputId": "ca95f8cc-7763-46ae-f8e8-5c85c56ee276"
      },
      "execution_count": null,
      "outputs": [
        {
          "output_type": "stream",
          "name": "stdout",
          "text": [
            "-4.194916414235195e-09\n",
            "0.0\n",
            "0.0\n",
            "861.0\n"
          ]
        }
      ]
    },
    {
      "cell_type": "code",
      "source": [
        "!pip install pulp"
      ],
      "metadata": {
        "colab": {
          "base_uri": "https://localhost:8080/"
        },
        "id": "ZYsAEFKNyiZU",
        "outputId": "f8516526-4831-4f22-d9b7-872752490412"
      },
      "execution_count": null,
      "outputs": [
        {
          "output_type": "stream",
          "name": "stdout",
          "text": [
            "Looking in indexes: https://pypi.org/simple, https://us-python.pkg.dev/colab-wheels/public/simple/\n",
            "Collecting pulp\n",
            "  Downloading PuLP-2.7.0-py3-none-any.whl (14.3 MB)\n",
            "\u001b[2K     \u001b[90m━━━━━━━━━━━━━━━━━━━━━━━━━━━━━━━━━━━━━━━━\u001b[0m \u001b[32m14.3/14.3 MB\u001b[0m \u001b[31m51.1 MB/s\u001b[0m eta \u001b[36m0:00:00\u001b[0m\n",
            "\u001b[?25hInstalling collected packages: pulp\n",
            "Successfully installed pulp-2.7.0\n"
          ]
        }
      ]
    },
    {
      "cell_type": "code",
      "source": [
        "import pulp\n",
        "\n",
        "# Problem data\n",
        "demands = [10, 20, 40]\n",
        "costs = [\n",
        "    [5, 7, 9],\n",
        "    [6, 8, 11]\n",
        "]\n",
        "max_trips = [50, 50]\n",
        "num_trucks = len(costs)\n",
        "num_locations = len(demands)\n",
        "\n",
        "# Create the problem instance\n",
        "problem = pulp.LpProblem(\"Trucking Company Optimization\", pulp.LpMinimize)\n",
        "\n",
        "# Define the decision variables\n",
        "x = pulp.LpVariable.dicts(\"x\", ((i, j) for i in range(num_trucks) for j in range(num_locations)), lowBound=0, cat='Integer')\n",
        "\n",
        "# Define the objective function\n",
        "problem += pulp.lpSum(costs[i][j] * x[(i, j)] + (0.2 * x[(i, j)]) for i in range(num_trucks) for j in range(num_locations))\n",
        "\n",
        "# Add the demand constraints\n",
        "for j in range(num_locations):\n",
        "    problem += pulp.lpSum(x[(i, j)] for i in range(num_trucks)) >= demands[j]\n",
        "\n",
        "# Add the maximum trips constraints\n",
        "for i in range(num_trucks):\n",
        "    problem += pulp.lpSum(x[(i, j)] for j in range(num_locations)) <= max_trips[i]\n",
        "\n",
        "# Solve the problem\n",
        "problem.solve()\n",
        "\n",
        "# Print the results\n",
        "print(\"Status:\", pulp.LpStatus[problem.status])\n",
        "for i in range(num_trucks):\n",
        "    for j in range(num_locations):\n",
        "        print(f\"Truck {i+1} trips to location {j+1}: {x[(i, j)].value()}\")\n",
        "\n",
        "print(\"Total cost:\", pulp.value(problem.objective))\n"
      ],
      "metadata": {
        "colab": {
          "base_uri": "https://localhost:8080/"
        },
        "id": "MfCqdKfB1C7q",
        "outputId": "6c4b9209-6cda-454b-c371-1966cd88bfcd"
      },
      "execution_count": null,
      "outputs": [
        {
          "output_type": "stream",
          "name": "stdout",
          "text": [
            "Status: Optimal\n",
            "Truck 1 trips to location 1: 0.0\n",
            "Truck 1 trips to location 2: 10.0\n",
            "Truck 1 trips to location 3: 40.0\n",
            "Truck 2 trips to location 1: 10.0\n",
            "Truck 2 trips to location 2: 10.0\n",
            "Truck 2 trips to location 3: 0.0\n",
            "Total cost: 584.0\n"
          ]
        }
      ]
    },
    {
      "cell_type": "code",
      "source": [
        "trucks = [0,1]\n",
        "locations = [0, 1, 2]\n",
        "fuel_efficiencies = [5,7]\n",
        "x = [[0,0,0],[1,1,1]]\n",
        "costs = [[3,2,5],[2,4,1]]"
      ],
      "metadata": {
        "id": "2DAv-UXkfRh_"
      },
      "execution_count": null,
      "outputs": []
    },
    {
      "cell_type": "code",
      "source": [],
      "metadata": {
        "id": "2_Y8v92yfRlG"
      },
      "execution_count": null,
      "outputs": []
    },
    {
      "cell_type": "code",
      "source": [],
      "metadata": {
        "id": "FtthG-XIfRn9"
      },
      "execution_count": null,
      "outputs": []
    },
    {
      "cell_type": "code",
      "source": [],
      "metadata": {
        "id": "ut6li3uKfRqs"
      },
      "execution_count": null,
      "outputs": []
    },
    {
      "cell_type": "code",
      "source": [],
      "metadata": {
        "id": "EIyezRCFfRtg"
      },
      "execution_count": null,
      "outputs": []
    },
    {
      "cell_type": "code",
      "source": [],
      "metadata": {
        "id": "oft82M2GfRwb"
      },
      "execution_count": null,
      "outputs": []
    },
    {
      "cell_type": "code",
      "source": [
        "!pip install geneticalgorithm"
      ],
      "metadata": {
        "id": "NX-t7lxxfR1W",
        "colab": {
          "base_uri": "https://localhost:8080/"
        },
        "outputId": "5f59315a-d99d-4998-8b19-86ac05a17991"
      },
      "execution_count": null,
      "outputs": [
        {
          "output_type": "stream",
          "name": "stdout",
          "text": [
            "Looking in indexes: https://pypi.org/simple, https://us-python.pkg.dev/colab-wheels/public/simple/\n",
            "Collecting geneticalgorithm\n",
            "  Downloading geneticalgorithm-1.0.2-py3-none-any.whl (16 kB)\n",
            "Collecting func-timeout (from geneticalgorithm)\n",
            "  Downloading func_timeout-4.3.5.tar.gz (44 kB)\n",
            "\u001b[2K     \u001b[90m━━━━━━━━━━━━━━━━━━━━━━━━━━━━━━━━━━━━━━━━\u001b[0m \u001b[32m44.3/44.3 kB\u001b[0m \u001b[31m1.3 MB/s\u001b[0m eta \u001b[36m0:00:00\u001b[0m\n",
            "\u001b[?25h  Preparing metadata (setup.py) ... \u001b[?25l\u001b[?25hdone\n",
            "Requirement already satisfied: numpy in /usr/local/lib/python3.10/dist-packages (from geneticalgorithm) (1.22.4)\n",
            "Building wheels for collected packages: func-timeout\n",
            "  Building wheel for func-timeout (setup.py) ... \u001b[?25l\u001b[?25hdone\n",
            "  Created wheel for func-timeout: filename=func_timeout-4.3.5-py3-none-any.whl size=15079 sha256=20fbf8a2ba73aecfcc028c299401c6dfd9a931450fb0ad65fb5db2993db58a5a\n",
            "  Stored in directory: /root/.cache/pip/wheels/3f/83/19/b5552bb9630e353f7c5b15be44bf10900afe1abbbfcf536afd\n",
            "Successfully built func-timeout\n",
            "Installing collected packages: func-timeout, geneticalgorithm\n",
            "Successfully installed func-timeout-4.3.5 geneticalgorithm-1.0.2\n"
          ]
        }
      ]
    },
    {
      "cell_type": "code",
      "source": [
        "4459178.12-6000000"
      ],
      "metadata": {
        "colab": {
          "base_uri": "https://localhost:8080/"
        },
        "id": "Z2204D1fVAIF",
        "outputId": "ffc542fd-11a5-4412-d8b8-a5e8fbac107d"
      },
      "execution_count": null,
      "outputs": [
        {
          "output_type": "execute_result",
          "data": {
            "text/plain": [
              "-1540821.88"
            ]
          },
          "metadata": {},
          "execution_count": 14
        }
      ]
    },
    {
      "cell_type": "code",
      "source": [],
      "metadata": {
        "id": "8GLEIkchVFYR"
      },
      "execution_count": null,
      "outputs": []
    },
    {
      "cell_type": "code",
      "source": [
        "def objective_function(x):\n",
        "  total_cost = 0\n",
        "  for i in range(len(trucks)):\n",
        "    for j in range(len(locations)):\n",
        "     total_cost += ((distance[j] * x[i*3+j])/e[i])* 3.68 + (0.4 * x[i*3+j])**2\n",
        "  return  - (6000000 - total_cost)\n",
        "\n",
        "# Define your constraints\n",
        "\n",
        "def constraint1(x):\n",
        "    return  800 - (x[: ,0] + x[:1*3+0])\n",
        "\n",
        "def constraint2(x):\n",
        "    return 1400 - (x[0*3+1] + x[1*3+1])\n",
        "\n",
        "def constraint3(x):\n",
        "    return 600 - (x[0*3+2] + x[1*3+2])\n",
        "\n",
        "def constraint4(x):\n",
        "    return (x[0*3+0]  + x[0*3+1] + x[0*3+2]) - 2400\n",
        "\n",
        "def constraint5(x):\n",
        "    return (x[1*3+0] + x[1*3+1] + x[1*3+2]) - 2000\n",
        "\n",
        "# Define the penalty function\n",
        "def penalty_function(x, r=1e12):\n",
        "    penalties =  np.maximum(0, constraint1(x)) + np.maximum(0, constraint2(x))  + np.maximum(0, constraint3(x)) + np.maximum(0, constraint4(x)) + np.maximum(0, constraint5(x))\n",
        "    return r * np.sum(penalties)\n",
        "\n",
        "# Define the penalized objective function\n",
        "def penalized_objective_function(x):\n",
        "    return objective_function(x) + penalty_function(x)"
      ],
      "metadata": {
        "id": "-v9auUzaFcS3"
      },
      "execution_count": null,
      "outputs": []
    },
    {
      "cell_type": "code",
      "source": [
        "import numpy as np\n",
        "from geneticalgorithm import geneticalgorithm as ga\n",
        "\n",
        "trucks = [0,1]\n",
        "locations = [0, 1, 2]\n",
        "distance = [315.8,566,689]\n",
        "e=[6,4]\n",
        "\n",
        "\n",
        "\n",
        "\n",
        "\n",
        "\n",
        "# varbound=np.array([[0,2400],[0,2400],[0,2400],[0,2000],[0,2000],[0,2000]])\n",
        "# vartype=np.array([['int'],['int'],['int'],['int'],['int'],['int']])\n",
        "# model=ga(function=penalized_objective_function,\n",
        "#          dimension=6,\n",
        "#          variable_type_mixed=vartype,\n",
        "#          variable_boundaries=varbound)\n",
        "\n",
        "\n",
        "varbound=np.array([[0,2400],[0,2400],[0,2400],[0,2000],[0,2000],[0,2000]])\n",
        "vartype=np.array([['int'],['int'],['int'],['int'],['int'],['int']])\n",
        "model=ga(function=penalized_objective_function,\n",
        "         dimension=6,\n",
        "         variable_type_mixed=vartype,\n",
        "         variable_boundaries=varbound, algorithm_parameters={'max_num_iteration': 100,\\\n",
        "                                       'population_size':25,\\\n",
        "                                       'mutation_probability':0.1,\\\n",
        "                                       'elit_ratio': 0.01,\\\n",
        "                                       'crossover_probability': 0.5,\\\n",
        "                                       'parents_portion': 0.3,\\\n",
        "                                       'crossover_type':'uniform',\\\n",
        "                                       'max_iteration_without_improv':10},\\\n",
        "                     convergence_curve=True,\\\n",
        "                         progress_bar=True)\n",
        "\n",
        "\n",
        "model.run()\n",
        "\n",
        "for I in [\"Objective function for iteration \" + str(x) +\" is \"+ str(y) for  x,y in enumerate( model.report)]:\n",
        "    print(I)"
      ],
      "metadata": {
        "id": "eF8K_1t4PGlR",
        "colab": {
          "base_uri": "https://localhost:8080/",
          "height": 1000
        },
        "outputId": "6e9d5542-ead9-4f23-81fc-cfcef20d6cf8"
      },
      "execution_count": null,
      "outputs": [
        {
          "output_type": "stream",
          "name": "stdout",
          "text": [
            " The best solution found:\n",
            " [ 529. 1373.  150.  380.   85.  480.]\n",
            "\n",
            " Objective function:\n",
            " -4487470.784\n"
          ]
        },
        {
          "output_type": "display_data",
          "data": {
            "text/plain": [
              "<Figure size 640x480 with 1 Axes>"
            ],
            "image/png": "[encoded data removed]"
          },
          "metadata": {}
        },
        {
          "output_type": "stream",
          "name": "stdout",
          "text": [
            "\n",
            "Warning: GA is terminated due to the maximum number of iterations without improvement was met!Objective function for iteration 0 is 356999996150884.25\n",
            "Objective function for iteration 1 is 262999996535566.12\n",
            "Objective function for iteration 2 is 225999996421826.38\n",
            "Objective function for iteration 3 is 225999996421826.38\n",
            "Objective function for iteration 4 is 160999996553824.94\n",
            "Objective function for iteration 5 is 146999996165082.75\n",
            "Objective function for iteration 6 is 146999996165082.75\n",
            "Objective function for iteration 7 is 146999996165082.75\n",
            "Objective function for iteration 8 is 146999996165082.75\n",
            "Objective function for iteration 9 is 146999996165082.75\n",
            "Objective function for iteration 10 is 146999996165082.75\n",
            "Objective function for iteration 11 is 146999996065901.16\n",
            "Objective function for iteration 12 is 146999996065901.16\n",
            "Objective function for iteration 13 is 146999996065901.16\n",
            "Objective function for iteration 14 is 124999996635316.08\n",
            "Objective function for iteration 15 is 124999996635316.08\n",
            "Objective function for iteration 16 is 9999996400638.52\n",
            "Objective function for iteration 17 is 9999996400638.52\n",
            "Objective function for iteration 18 is 9999996400638.52\n",
            "Objective function for iteration 19 is 9999996341308.92\n",
            "Objective function for iteration 20 is 9999996329673.447\n",
            "Objective function for iteration 21 is -3590096.6319999998\n",
            "Objective function for iteration 22 is -3590096.6319999998\n",
            "Objective function for iteration 23 is -3590096.6319999998\n",
            "Objective function for iteration 24 is -4414474.432\n",
            "Objective function for iteration 25 is -4414474.432\n",
            "Objective function for iteration 26 is -4414474.432\n",
            "Objective function for iteration 27 is -4414474.432\n",
            "Objective function for iteration 28 is -4414474.432\n",
            "Objective function for iteration 29 is -4414474.432\n",
            "Objective function for iteration 30 is -4414474.432\n",
            "Objective function for iteration 31 is -4414474.432\n",
            "Objective function for iteration 32 is -4443759.584\n",
            "Objective function for iteration 33 is -4443759.584\n",
            "Objective function for iteration 34 is -4443759.584\n",
            "Objective function for iteration 35 is -4443759.584\n",
            "Objective function for iteration 36 is -4443759.584\n",
            "Objective function for iteration 37 is -4443759.584\n",
            "Objective function for iteration 38 is -4443759.584\n",
            "Objective function for iteration 39 is -4487470.784\n",
            "Objective function for iteration 40 is -4487470.784\n",
            "Objective function for iteration 41 is -4487470.784\n",
            "Objective function for iteration 42 is -4487470.784\n",
            "Objective function for iteration 43 is -4487470.784\n",
            "Objective function for iteration 44 is -4487470.784\n",
            "Objective function for iteration 45 is -4487470.784\n",
            "Objective function for iteration 46 is -4487470.784\n",
            "Objective function for iteration 47 is -4487470.784\n",
            "Objective function for iteration 48 is -4487470.784\n",
            "Objective function for iteration 49 is -4487470.784\n",
            "Objective function for iteration 50 is -4487470.784\n",
            "Objective function for iteration 51 is -4487470.784\n"
          ]
        }
      ]
    },
    {
      "cell_type": "code",
      "source": [
        "x=[539., 983., 578., 261., 417.,  22.]\n",
        "x=[773., 455., 753.,  28., 968.,   1.]\n",
        "# [ 688.  165.  620.  114. 1257.    9.]\n",
        "x = [300.41757627 ,720.32270695 ,679.25971577 ,499.58242392 ,679.67729339,520.74028136]\n",
        "\n",
        "print(constraint1(x))\n",
        "print(constraint2(x))\n",
        "print(constraint3(x))\n",
        "print(constraint4(x))\n",
        "print(constraint5(x))"
      ],
      "metadata": {
        "colab": {
          "base_uri": "https://localhost:8080/"
        },
        "id": "oLDuwDNaYgTE",
        "outputId": "41310f76-90e5-4417-c28e-21478d2a367c"
      },
      "execution_count": null,
      "outputs": [
        {
          "output_type": "stream",
          "name": "stdout",
          "text": [
            "-1.9000003703695256e-07\n",
            "-3.4000004234258085e-07\n",
            "-599.9999971299999\n",
            "-700.00000101\n",
            "-300.00000133000003\n"
          ]
        }
      ]
    },
    {
      "cell_type": "code",
      "source": [
        "import pyswarms as ps\n",
        "import numpy as np\n",
        "\n",
        "def objective_function(x):\n",
        "  total_cost = 0\n",
        "  for i in range(len(trucks)):\n",
        "    for j in range(len(locations)):\n",
        "     total_cost += ((distance[j] * x[:, i*3+j])/e[i])* 3.68 + (0.4 * x[:,i*3+j])**2\n",
        "  return (total_cost)\n",
        "\n",
        "# Define your constraints\n",
        "\n",
        "def constraint1(x):\n",
        "    return  800 - (x[:, 0] + x[:,3])\n",
        "\n",
        "def constraint2(x):\n",
        "    return 1400 - (x[:,1] + x[:,4])\n",
        "\n",
        "def constraint3(x):\n",
        "    return 600 - (x[:,2] + x[:,5])\n",
        "\n",
        "def constraint4(x):\n",
        "    return (x[:,0]  + x[:,1] + x[:,2]) - 2400\n",
        "\n",
        "def constraint5(x):\n",
        "    return (x[:,3] + x[:,4] + x[:,5]) - 2000\n",
        "\n",
        "# Define the penalty function\n",
        "def penalty_function(x, r=1e12):\n",
        "    penalties =  np.maximum(0, constraint1(x)) + np.maximum(0, constraint2(x))  + np.maximum(0, constraint3(x)) + np.maximum(0, constraint4(x)) + np.maximum(0, constraint5(x))\n",
        "    return r * np.sum(penalties)\n",
        "\n",
        "# Define the penalized objective function\n",
        "def penalized_objective_function(x):\n",
        "    return objective_function(x) + penalty_function(x)\n",
        "\n",
        "\n",
        "trucks = [0,1]\n",
        "locations = [0, 1, 2]\n",
        "distance = [315.8,566,689]\n",
        "e=[6,4]\n",
        "\n",
        "\n",
        "# Set the bounds of the search space\n",
        "lower_bounds = np.array([0, 0, 0, 0, 0, 0])\n",
        "upper_bounds = np.array([2400, 2400, 2400, 2000,2000, 2000])\n",
        "\n",
        "bounds = (lower_bounds, upper_bounds)\n",
        "\n",
        "# Initialize the PSO optimizer\n",
        "options = {'c1': 0.5, 'c2': 0.5, 'w': 0.9,}\n",
        "optimizer = ps.single.GlobalBestPSO(n_particles=6000, dimensions=6, options=options)\n",
        "\n",
        "# Optimize the penalized objective function\n",
        "cost, pos = optimizer.optimize(penalized_objective_function, iters=6000)\n",
        "\n",
        "print(\"Optimal solution found at position:\", pos, \"with cost:\", cost)"
      ],
      "metadata": {
        "id": "91pYkj-zck9M",
        "colab": {
          "base_uri": "https://localhost:8080/"
        },
        "outputId": "4ab2b4bc-4464-4aed-891e-02061ed80c4c"
      },
      "execution_count": null,
      "outputs": [
        {
          "output_type": "stream",
          "name": "stderr",
          "text": [
            "2023-05-11 01:37:01,587 - pyswarms.single.global_best - INFO - Optimize for 6000 iters with {'c1': 0.5, 'c2': 0.5, 'w': 0.9}\n",
            "pyswarms.single.global_best: 100%|██████████|6000/6000, best_cost=1.68e+19\n",
            "2023-05-11 01:37:46,997 - pyswarms.single.global_best - INFO - Optimization finished | best cost: 1.6752498193563742e+19, best pos: [2.01853178 0.49266469 0.44105987 1.87265609 0.48164498 0.85276137]\n"
          ]
        },
        {
          "output_type": "stream",
          "name": "stdout",
          "text": [
            "Optimal solution found at position: [2.01853178 0.49266469 0.44105987 1.87265609 0.48164498 0.85276137] with cost: 1.6752498193563742e+19\n"
          ]
        }
      ]
    },
    {
      "cell_type": "code",
      "source": [
        "# Define the initial guess\n",
        "initial_guess = np.array([1000, 1, 1])\n",
        "\n",
        "# Define the bounds for each variable (optional)\n",
        "bounds = [(0, None), (0, None), (0, None)]\n",
        "\n",
        "# Define the constraints in the form required by scipy.optimize\n",
        "constraints = [\n",
        "    {'type': 'ineq', 'fun': constraint1},\n",
        "    {'type': 'ineq', 'fun': constraint2},\n",
        "    {'type': 'ineq', 'fun': constraint3},\n",
        "    {'type': 'ineq', 'fun': constraint4},\n",
        "]\n",
        "\n",
        "# Call the minimize function with the SLSQP method\n",
        "result = minimize(\n",
        "    objective_function, initial_guess, method='SLSQP', bounds=bounds, constraints=constraints\n",
        ")\n",
        "\n",
        "# Print the results\n",
        "if result.success:\n",
        "    print(\"Optimal solution:\", result.x)\n",
        "    print(\"Objective function value at the optimal solution:\", result.fun)\n",
        "else:\n",
        "    print(\"Optimization did not converge.\")\n",
        "    print(\"Reason:\", result.message)\n"
      ],
      "metadata": {
        "id": "edyB_P_CZLoq"
      },
      "execution_count": null,
      "outputs": []
    },
    {
      "cell_type": "code",
      "source": [
        "import numpy as np\n",
        "from scipy.optimize import minimize\n",
        "\n",
        "def objective_function(x):\n",
        "    total_cost = 0\n",
        "    for i in range(len(trucks)):\n",
        "        for j in range(len(locations)):\n",
        "            total_cost += ((distance[j] * x[i*3+j])/e[i]) * 3.68 + (0.4 * x[i*3+j])**2\n",
        "    return -(6000000 - total_cost)\n",
        "\n",
        "def constraint1(x):\n",
        "    return 800 - (x[0] + x[3])\n",
        "\n",
        "def constraint2(x):\n",
        "    return 1400 - (x[1] + x[4])\n",
        "\n",
        "def constraint3(x):\n",
        "    return 600 - (x[2] + x[5])\n",
        "\n",
        "def constraint4(x):\n",
        "    return (x[0] + x[1] + x[2]) - 2400\n",
        "\n",
        "def constraint5(x):\n",
        "    return (x[3] + x[4] +x[5]) - 2000\n",
        "\n",
        "trucks = [0, 1]\n",
        "locations = [0, 1, 2]\n",
        "distance = [315.8, 566, 689]\n",
        "e = [6, 4]\n",
        "\n",
        "bounds = [(0, 2400), (0, 2400), (0, 2400), (0, 2000), (0, 2000), (0, 2000)]\n",
        "\n",
        "x0 = np.array([400, 700, 600, 400, 700, 600])  # Initial guess\n",
        "\n",
        "constraints = (\n",
        "    {'type': 'ineq', 'fun': constraint1},\n",
        "    {'type': 'ineq', 'fun': constraint2},\n",
        "    {'type': 'ineq', 'fun': constraint3},\n",
        "    {'type': 'ineq', 'fun': constraint4},\n",
        "    {'type': 'ineq', 'fun': constraint5}\n",
        ")\n",
        "\n",
        "result = minimize(objective_function, x0, bounds=bounds, constraints=constraints, method='SLSQP')\n",
        "\n",
        "print(\"Optimal solution:\", result.x)\n",
        "print(\"Objective function value at the optimal solution:\", -result.fun)\n",
        "\n"
      ],
      "metadata": {
        "colab": {
          "base_uri": "https://localhost:8080/"
        },
        "id": "WHQltf2Ye5UD",
        "outputId": "7720b4b5-d702-4b8b-cb86-69840f6761e4"
      },
      "execution_count": null,
      "outputs": [
        {
          "output_type": "stream",
          "name": "stdout",
          "text": [
            "Optimal solution: [300.41757627 720.32270695 679.25971577 499.58242392 679.67729339\n",
            " 520.74028136]\n",
            "Objective function value at the optimal solution: 4247037.337440252\n"
          ]
        }
      ]
    },
    {
      "cell_type": "code",
      "source": [],
      "metadata": {
        "id": "nIxVAm1LkgCF"
      },
      "execution_count": null,
      "outputs": []
    }
  ]
}